{
 "cells": [
  {
   "cell_type": "code",
   "execution_count": 4,
   "metadata": {},
   "outputs": [],
   "source": [
    "import tabula\n",
    "\n",
    "# Specify the path to the PDF file and the pages containing the table(s)\n",
    "pdf_path = \"/home/teena/Documents/OCR_IMAGE_TEXT/attachments/invoice-template-in-dexter-750px.pdf\"\n",
    "pages = \"all\"  # Use \"all\" to extract from all pages, or specify specific page numbers as a list [1, 2, 3, ...]\n",
    "\n",
    "# Extract tables from the PDF\n",
    "tables = tabula.read_pdf(pdf_path, pages=pages)\n",
    "\n",
    "# Process the extracted tables\n",
    "for i, table in enumerate(tables, start=1):\n",
    "    print(i)\n",
    "    print(table)\n",
    "    # df = table.df  # Get the table as a pandas DataFrame\n",
    "    # print(f\"Table {i}:\\n{df}\\n\")\n"
   ]
  },
  {
   "cell_type": "code",
   "execution_count": 1,
   "metadata": {},
   "outputs": [
    {
     "name": "stdout",
     "output_type": "stream",
     "text": [
      "Requirement already satisfied: tabula-py in /home/teena/anaconda3/lib/python3.9/site-packages (2.7.0)\n",
      "Requirement already satisfied: numpy in /home/teena/anaconda3/lib/python3.9/site-packages (from tabula-py) (1.21.5)\n",
      "Requirement already satisfied: distro in /home/teena/anaconda3/lib/python3.9/site-packages (from tabula-py) (1.8.0)\n",
      "Requirement already satisfied: pandas>=0.25.3 in /home/teena/anaconda3/lib/python3.9/site-packages (from tabula-py) (1.4.2)\n",
      "Requirement already satisfied: python-dateutil>=2.8.1 in /home/teena/anaconda3/lib/python3.9/site-packages (from pandas>=0.25.3->tabula-py) (2.8.2)\n",
      "Requirement already satisfied: pytz>=2020.1 in /home/teena/anaconda3/lib/python3.9/site-packages (from pandas>=0.25.3->tabula-py) (2022.7.1)\n",
      "Requirement already satisfied: six>=1.5 in /home/teena/anaconda3/lib/python3.9/site-packages (from python-dateutil>=2.8.1->pandas>=0.25.3->tabula-py) (1.16.0)\n"
     ]
    }
   ],
   "source": [
    "!pip install tabula-py"
   ]
  }
 ],
 "metadata": {
  "kernelspec": {
   "display_name": "base",
   "language": "python",
   "name": "python3"
  },
  "language_info": {
   "codemirror_mode": {
    "name": "ipython",
    "version": 3
   },
   "file_extension": ".py",
   "mimetype": "text/x-python",
   "name": "python",
   "nbconvert_exporter": "python",
   "pygments_lexer": "ipython3",
   "version": "3.9.12"
  },
  "orig_nbformat": 4
 },
 "nbformat": 4,
 "nbformat_minor": 2
}

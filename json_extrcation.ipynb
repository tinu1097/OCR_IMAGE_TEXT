{
 "cells": [
  {
   "cell_type": "code",
   "execution_count": 4,
   "metadata": {},
   "outputs": [
    {
     "name": "stdout",
     "output_type": "stream",
     "text": [
      "Ship To: Kavindra Mannan 264, Abdul Rehman Mumbai, Bihar 40009\n",
      "Bill To: Kavindra Mannan 27, Dif City, Gupta Delhi, Dethi 40003\n",
      "Description: Frontend design restructure Custom icon package  Gandhi mouse pad\n",
      "Amount: 9,999.00 1,950.00, 297.00\n",
      "UNIT_PRICE 9,999.00 975.00 99.00\n",
      "Total: None\n",
      "Invoice Date: None\n",
      "Due Date: Ship To  Kavindra Mannan 264, Abdul Rehman Mumbai, Bihar 40009               Bill To  Kavindra Mannan 27, Dif City, Gupta Delhi, Dethi 40003               Saffron Design  77 Namrata Bldg Delhi, Dethi 400077        \"}\n"
     ]
    }
   ],
   "source": [
    "import re\n",
    "\n",
    "data = \"\"\"\n",
    "{\"content\":\"      Payment is due within 15 days  State Bank of India Account Number: 12345678 Routing Number: 09876543210               Terms & Conditions                 12,246.00  1,469.52  13,715.52               Subtotal GST 12.0%  INVOICE TOTAL              AMOUNT     9,999.00 1,950.00, 297.00               UNIT PRICE     9,999.00 975.00 99.00                            DESCRIPTION  Frontend design restructure Custom icon package  Gandhi mouse pad            IN-001 29/01/2019 2430/2019 26/04/2019               Invoice # Invoice Date P.O.#  Due Date               Ship To  Kavindra Mannan 264, Abdul Rehman Mumbai, Bihar 40009               Bill To  Kavindra Mannan 27, Dif City, Gupta Delhi, Dethi 40003               Saffron Design  77 Namrata Bldg Delhi, Dethi 400077        \"}\n",
    "\"\"\"\n",
    "\n",
    "# Extract Ship To\n",
    "ship_to = re.search(r\"Ship To\\s+(.*)\\s\", data)\n",
    "ship_to = ship_to.group(1).strip() if ship_to else None\n",
    "\n",
    "# Extract Bill To\n",
    "bill_to = re.search(r\"Bill To\\s+(.*)\\s\", data)\n",
    "bill_to = bill_to.group(1).strip() if bill_to else None\n",
    "\n",
    "# Extract Description\n",
    "description = re.search(r\"DESCRIPTION\\s+(.*?)\\s+\\s{3,}\", data)\n",
    "description = description.group(1).strip() if description else None\n",
    "\n",
    "# Extract Amount\n",
    "amount = re.search(r\"AMOUNT\\s+([\\d., ]+)+\\s{3,}\", data)\n",
    "amount = amount.group(1).strip() if amount else None\n",
    "\n",
    "unit_price = re.search(r\"UNIT PRICE\\s+([\\d., ]+)+\\s{3,}\", data)\n",
    "unit_price = unit_price.group(1).strip() if unit_price else None\n",
    "\n",
    "# Extract Total\n",
    "total = re.search(r\"INVOICE TOTAL\\s+([\\d.,]+)\", data)\n",
    "total = total.group(1).strip() if total else None\n",
    "\n",
    "# Extract Invoice Date\n",
    "invoice_date = re.search(r\"Invoice Date\\s+(.*?)\\s+P.O.\", data)\n",
    "invoice_date = invoice_date.group(1).strip() if invoice_date else None\n",
    "\n",
    "# pattern = r'IN-\\d+ [\\d/]+\\s+Invoice # Invoice Date P.O.# Due Date'\n",
    "# match = re.search(pattern, data)\n",
    "\n",
    "# if match:\n",
    "#     invoice_info = match.group(0).strip()\n",
    "#     print(invoice_info)\n",
    "# else:\n",
    "#     print(\"Invoice information not found.\")\n",
    "\n",
    "# Extract Due Date\n",
    "due_date = re.search(r\"Due Date\\s+(.*)\", data)\n",
    "due_date = due_date.group(1).strip() if due_date else None\n",
    "\n",
    "# Print the extracted information\n",
    "print(\"Ship To:\", ship_to.split('  ')[0])\n",
    "print(\"Bill To:\", bill_to.split('   ')[0])\n",
    "print(\"Description:\", description)\n",
    "print(\"Amount:\", amount)\n",
    "print(\"UNIT_PRICE\",unit_price)\n",
    "print(\"Total:\", total)\n",
    "print(\"Invoice Date:\", invoice_date)\n",
    "print(\"Due Date:\", due_date)"
   ]
  },
  {
   "cell_type": "code",
   "execution_count": 1,
   "metadata": {},
   "outputs": [
    {
     "ename": "NameError",
     "evalue": "name 're' is not defined",
     "output_type": "error",
     "traceback": [
      "\u001b[0;31m---------------------------------------------------------------------------\u001b[0m",
      "\u001b[0;31mNameError\u001b[0m                                 Traceback (most recent call last)",
      "\u001b[1;32m/home/teena/Documents/pytessrect_API_image_text/Anmol_pdf_extraction/InvoiceReader-ML/json_extrcation.ipynb Cell 2\u001b[0m in \u001b[0;36m<cell line: 2>\u001b[0;34m()\u001b[0m\n\u001b[1;32m      <a href='vscode-notebook-cell:/home/teena/Documents/pytessrect_API_image_text/Anmol_pdf_extraction/InvoiceReader-ML/json_extrcation.ipynb#W1sZmlsZQ%3D%3D?line=0'>1</a>\u001b[0m pattern \u001b[39m=\u001b[39m \u001b[39mr\u001b[39m\u001b[39m'\u001b[39m\u001b[39mIN-\u001b[39m\u001b[39m\\\u001b[39m\u001b[39md+ [\u001b[39m\u001b[39m\\\u001b[39m\u001b[39md/]+\u001b[39m\u001b[39m\\\u001b[39m\u001b[39ms+\u001b[39m\u001b[39m\\\u001b[39m\u001b[39ms\u001b[39m\u001b[39m{\u001b[39m\u001b[39m3,}\u001b[39m\u001b[39m'\u001b[39m\n\u001b[0;32m----> <a href='vscode-notebook-cell:/home/teena/Documents/pytessrect_API_image_text/Anmol_pdf_extraction/InvoiceReader-ML/json_extrcation.ipynb#W1sZmlsZQ%3D%3D?line=1'>2</a>\u001b[0m match \u001b[39m=\u001b[39m re\u001b[39m.\u001b[39msearch(\u001b[39mr\u001b[39m\u001b[39m'\u001b[39m\u001b[39mIN-\u001b[39m\u001b[39m\\\u001b[39m\u001b[39md+ [\u001b[39m\u001b[39m\\\u001b[39m\u001b[39md/]+\u001b[39m\u001b[39m\\\u001b[39m\u001b[39ms+\u001b[39m\u001b[39m\\\u001b[39m\u001b[39ms\u001b[39m\u001b[39m{\u001b[39m\u001b[39m3,}\u001b[39m\u001b[39m'\u001b[39m, data)\n\u001b[1;32m      <a href='vscode-notebook-cell:/home/teena/Documents/pytessrect_API_image_text/Anmol_pdf_extraction/InvoiceReader-ML/json_extrcation.ipynb#W1sZmlsZQ%3D%3D?line=3'>4</a>\u001b[0m \u001b[39mif\u001b[39;00m match:\n\u001b[1;32m      <a href='vscode-notebook-cell:/home/teena/Documents/pytessrect_API_image_text/Anmol_pdf_extraction/InvoiceReader-ML/json_extrcation.ipynb#W1sZmlsZQ%3D%3D?line=4'>5</a>\u001b[0m     invoice_info \u001b[39m=\u001b[39m match\u001b[39m.\u001b[39mgroup(\u001b[39m0\u001b[39m)\u001b[39m.\u001b[39mstrip()\n",
      "\u001b[0;31mNameError\u001b[0m: name 're' is not defined"
     ]
    }
   ],
   "source": [
    "pattern = r'IN-\\d+ [\\d/]+\\s+\\s{3,}'\n",
    "match = re.search(r'IN-\\d+ [\\d/]+\\s+\\s{3,}', data)\n",
    "\n",
    "if match:\n",
    "    invoice_info = match.group(0).strip()\n",
    "    print(invoice_info)\n",
    "# else:\n",
    "#     print(\"Invoice information not found.\")"
   ]
  },
  {
   "cell_type": "code",
   "execution_count": 7,
   "metadata": {},
   "outputs": [],
   "source": [
    "import json\n",
    "data = '''\n",
    "{\"content\":\"      Payment is due within 15 days  State Bank of India Account Number: 12345678 Routing Number: 09876543210               Terms & Conditions                 12,246.00  1,469.52  13,715.52               Subtotal GST 12.0%  INVOICE TOTAL              AMOUNT     9,999.00 1,950.00, 297.00               UNIT PRICE     9,999.00 975.00 99.00                            DESCRIPTION  Frontend design restructure Custom icon package  Gandhi mouse pad            IN-001 29/01/2019 2430/2019 26/04/2019               Invoice # Invoice Date P.O.#  Due Date               Ship To  Kavindra Mannan 264, Abdul Rehman Mumbai, Bihar 40009               Bill To  Kavindra Mannan 27, Dif City, Gupta Delhi, Dethi 40003               Saffron Design  77 Namrata Bldg Delhi, Dethi 400077        \"}'''\n",
    "\n",
    "data = json.loads(data)"
   ]
  },
  {
   "cell_type": "code",
   "execution_count": 9,
   "metadata": {},
   "outputs": [
    {
     "data": {
      "text/plain": [
       "'      Payment is due within 15 days  State Bank of India Account Number: 12345678 Routing Number: 09876543210               Terms & Conditions                 12,246.00  1,469.52  13,715.52               Subtotal GST 12.0%  INVOICE TOTAL              AMOUNT     9,999.00 1,950.00, 297.00               UNIT PRICE     9,999.00 975.00 99.00                            DESCRIPTION  Frontend design restructure Custom icon package  Gandhi mouse pad            IN-001 29/01/2019 2430/2019 26/04/2019               Invoice # Invoice Date P.O.#  Due Date               Ship To  Kavindra Mannan 264, Abdul Rehman Mumbai, Bihar 40009               Bill To  Kavindra Mannan 27, Dif City, Gupta Delhi, Dethi 40003               Saffron Design  77 Namrata Bldg Delhi, Dethi 400077        '"
      ]
     },
     "execution_count": 9,
     "metadata": {},
     "output_type": "execute_result"
    }
   ],
   "source": [
    "data[\"content\"]"
   ]
  },
  {
   "cell_type": "code",
   "execution_count": 10,
   "metadata": {},
   "outputs": [
    {
     "name": "stdout",
     "output_type": "stream",
     "text": [
      "{'Payment is due within 15 days  State Bank of India Account Number': '12345678 Routing Number: 09876543210               Terms & Conditions                 12,246.00  1,469.52  13,715.52               Subtotal GST 12.0%  INVOICE TOTAL              AMOUNT     9,999.00 1,950.00, 297.00               UNIT PRICE     9,999.00 975.00 99.00                            DESCRIPTION  Frontend design restructure Custom icon package  Gandhi mouse pad            IN-001 29/01/2019 2430/2019 26/04/2019               Invoice # Invoice Date P.O.#  Due Date               Ship To  Kavindra Mannan 264, Abdul Rehman Mumbai, Bihar 40009               Bill To  Kavindra Mannan 27, Dif City, Gupta Delhi, Dethi 40003               Saffron Design  77 Namrata Bldg Delhi, Dethi 400077'}\n"
     ]
    }
   ],
   "source": [
    "import json\n",
    "\n",
    "json_str = '''\n",
    "{\n",
    "  \"content\": \"      Payment is due within 15 days  State Bank of India Account Number: 12345678 Routing Number: 09876543210               Terms & Conditions                 12,246.00  1,469.52  13,715.52               Subtotal GST 12.0%  INVOICE TOTAL              AMOUNT     9,999.00 1,950.00, 297.00               UNIT PRICE     9,999.00 975.00 99.00                            DESCRIPTION  Frontend design restructure Custom icon package  Gandhi mouse pad            IN-001 29/01/2019 2430/2019 26/04/2019               Invoice # Invoice Date P.O.#  Due Date               Ship To  Kavindra Mannan 264, Abdul Rehman Mumbai, Bihar 40009               Bill To  Kavindra Mannan 27, Dif City, Gupta Delhi, Dethi 40003               Saffron Design  77 Namrata Bldg Delhi, Dethi 400077        \"\n",
    "}\n",
    "'''\n",
    "\n",
    "# Parse JSON into a dictionary\n",
    "json_data = json.loads(json_str)\n",
    "\n",
    "# Clean up the content value by removing leading/trailing spaces\n",
    "content = json_data['content'].strip()\n",
    "\n",
    "# Split the content into lines\n",
    "lines = content.split('\\n')\n",
    "\n",
    "# Create a dictionary for key-value pairs\n",
    "key_value_dict = {}\n",
    "\n",
    "# Extract key-value pairs from lines\n",
    "for line in lines:\n",
    "    line = line.strip()  # Remove leading/trailing spaces from each line\n",
    "    if line != '':\n",
    "        key, value = line.split(':', 1)  # Split each line into key-value pair\n",
    "        key = key.strip()  # Remove leading/trailing spaces from the key\n",
    "        value = value.strip()  # Remove leading/trailing spaces from the value\n",
    "        key_value_dict[key] = value  # Add key-value pair to the dictionary\n",
    "\n",
    "print(key_value_dict)\n"
   ]
  },
  {
   "cell_type": "code",
   "execution_count": 11,
   "metadata": {},
   "outputs": [
    {
     "name": "stdout",
     "output_type": "stream",
     "text": [
      "Payment is due within 15 days  State Bank of India Account Number\n",
      "12345678 Routing Number: 09876543210               Terms & Conditions                 12,246.00  1,469.52  13,715.52               Subtotal GST 12.0%  INVOICE TOTAL              AMOUNT     9,999.00 1,950.00, 297.00               UNIT PRICE     9,999.00 975.00 99.00                            DESCRIPTION  Frontend design restructure Custom icon package  Gandhi mouse pad            IN-001 29/01/2019 2430/2019 26/04/2019               Invoice # Invoice Date P.O.#  Due Date               Ship To  Kavindra Mannan 264, Abdul Rehman Mumbai, Bihar 40009               Bill To  Kavindra Mannan 27, Dif City, Gupta Delhi, Dethi 40003               Saffron Design  77 Namrata Bldg Delhi, Dethi 400077\n"
     ]
    }
   ],
   "source": [
    "for i,j in key_value_dict.items():\n",
    "    print(i)\n",
    "    print(j)"
   ]
  },
  {
   "cell_type": "code",
   "execution_count": 64,
   "metadata": {},
   "outputs": [
    {
     "name": "stdout",
     "output_type": "stream",
     "text": [
      "      Payment is due within 15 days  State Bank of India Account Number: 12345678 Routing Number: 09876543210               Terms & Conditions                 12,246.00  1,469.52  13,715.52               Subtotal GST 12.0%  INVOICE TOTAL              AMOUNT     9,999.00 1,950.00, 297.00               UNIT PRICE     9,999.00 975.00 99.00                            DESCRIPTION  Frontend design restructure Custom icon package  Gandhi mouse pad            IN-001 29/01/2019 2430/2019 26/04/2019               Invoice # Invoice Date P.O.#  Due Date               Ship To  Kavindra Mannan 264, Abdul Rehman Mumbai, Bihar 40009               Bill To  Kavindra Mannan 27, Dif City, Gupta Delhi, Dethi 40003               Saffron Design  77 Namrata Bldg Delhi, Dethi 400077        \n",
      "None\n",
      "Invoice information not found.\n"
     ]
    }
   ],
   "source": [
    "import re\n",
    "\n",
    "json_data = '''\n",
    "{\n",
    "  \"content\": \"      Payment is due within 15 days  State Bank of India Account Number: 12345678 Routing Number: 09876543210               Terms & Conditions                 12,246.00  1,469.52  13,715.52               Subtotal GST 12.0%  INVOICE TOTAL              AMOUNT     9,999.00 1,950.00, 297.00               UNIT PRICE     9,999.00 975.00 99.00                            DESCRIPTION  Frontend design restructure Custom icon package  Gandhi mouse pad            IN-001 29/01/2019 2430/2019 26/04/2019               Invoice # Invoice Date P.O.#  Due Date               Ship To  Kavindra Mannan 264, Abdul Rehman Mumbai, Bihar 40009               Bill To  Kavindra Mannan 27, Dif City, Gupta Delhi, Dethi 40003               Saffron Design  77 Namrata Bldg Delhi, Dethi 400077        \"\n",
    "}\n",
    "'''\n",
    "\n",
    "# Parse JSON data\n",
    "data = json.loads(json_data)\n",
    "\n",
    "# Extract the specific line\n",
    "content = data['content']\n",
    "print(content)\n",
    "pattern = r'IN-\\d+ [\\d/]+\\s+Invoice # Invoice Date P.O.# Due Date'\n",
    "match = re.search(pattern, content)\n",
    "print(match)\n",
    "\n",
    "if match:\n",
    "    invoice_info = match.group(0).strip()\n",
    "    print(invoice_info)\n",
    "else:\n",
    "    print(\"Invoice information not found.\")\n"
   ]
  },
  {
   "cell_type": "code",
   "execution_count": null,
   "metadata": {},
   "outputs": [],
   "source": []
  }
 ],
 "metadata": {
  "kernelspec": {
   "display_name": "base",
   "language": "python",
   "name": "python3"
  },
  "language_info": {
   "codemirror_mode": {
    "name": "ipython",
    "version": 3
   },
   "file_extension": ".py",
   "mimetype": "text/x-python",
   "name": "python",
   "nbconvert_exporter": "python",
   "pygments_lexer": "ipython3",
   "version": "3.9.12"
  },
  "orig_nbformat": 4
 },
 "nbformat": 4,
 "nbformat_minor": 2
}
